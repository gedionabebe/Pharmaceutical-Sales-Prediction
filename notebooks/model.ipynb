{
 "cells": [
  {
   "cell_type": "code",
   "execution_count": 1,
   "metadata": {},
   "outputs": [],
   "source": [
    "import pandas as pd\n",
    "import numpy as np\n",
    "from sklearn.ensemble import RandomForestRegressor\n",
    "from sklearn.model_selection import train_test_split\n",
    "from sklearn.preprocessing import StandardScaler\n",
    "from sklearn.pipeline import Pipeline\n",
    "from sklearn.metrics import mean_squared_error\n",
    "import mlflow\n",
    "import pickle\n",
    "import logging\n",
    "import sys,os,datetime\n",
    "sys.path.insert(0,'../scripts/')\n",
    "from data_fetch import get_data\n",
    "from loss_function import mae,rmse"
   ]
  },
  {
   "cell_type": "code",
   "execution_count": 2,
   "metadata": {},
   "outputs": [
    {
     "data": {
      "text/plain": [
       "<Experiment: artifact_location='file:///C:/Users/User/Desktop/Pharmaceutical-Sales-Prediction/notebooks/mlruns/2', experiment_id='2', lifecycle_stage='active', name='Predicting sales using Random Forest Regressor', tags={}>"
      ]
     },
     "execution_count": 2,
     "metadata": {},
     "output_type": "execute_result"
    }
   ],
   "source": [
    "logging.basicConfig(filename='../log/log.log', filemode='a',encoding='utf-8', level=logging.DEBUG)\n",
    "mlflow.set_experiment(\"Predicting sales using Random Forest Regressor\")"
   ]
  },
  {
   "cell_type": "code",
   "execution_count": 3,
   "metadata": {},
   "outputs": [],
   "source": [
    "train_data = get_data('data/train_processed.csv','C:/Users/User/Desktop/Pharmaceutical-Sales-Prediction','train_processed_v1')\n",
    "mlflow.log_param('Data version', 'train_processed_v1')\n",
    "mlflow.log_param('Model', 'Random Forest Regressor')\n"
   ]
  },
  {
   "cell_type": "code",
   "execution_count": 4,
   "metadata": {},
   "outputs": [],
   "source": [
    "#train_data = train_data.head(n=100000)\n",
    "train_data.set_index('Date',inplace=True)\n",
    "y = train_data['Sales']\n",
    "x = train_data.drop('Sales', axis=1)\n",
    "X_train, X_test, y_train, y_test = train_test_split(x, y, test_size=0.2, random_state=0)"
   ]
  },
  {
   "cell_type": "code",
   "execution_count": 5,
   "metadata": {},
   "outputs": [],
   "source": [
    "n_estimators = 35\n",
    "max_depth=20\n",
    "random_state=5\n",
    "pipeline = Pipeline(steps = [('preprocessor', StandardScaler()),('model',RandomForestRegressor(n_estimators = n_estimators,max_depth=max_depth, random_state=random_state))])\n",
    "mlflow.log_param('Number of estimators',n_estimators)\n",
    "mlflow.log_param('Max depth',max_depth)\n",
    "mlflow.log_param('Random state',random_state)"
   ]
  },
  {
   "cell_type": "code",
   "execution_count": 6,
   "metadata": {},
   "outputs": [],
   "source": [
    "random_forest_model = pipeline.fit(X_train, y_train)"
   ]
  },
  {
   "cell_type": "code",
   "execution_count": 7,
   "metadata": {},
   "outputs": [],
   "source": [
    "Score = random_forest_model.score(X_test, y_test)\n",
    "y_pred= random_forest_model.predict(X_test)\n",
    "report = str(train_data.columns)\n",
    "mse = mean_squared_error(y_test, y_pred)\n",
    "mlflow.log_metric('Score',Score)\n",
    "mlflow.log_metric('Mean Squared Error',mse)\n",
    "if not os.path.exists(\"Random Forest Regression reports\"):\n",
    "    os.makedirs(\"Random Forest Regression reports\")\n",
    "with open(\"Random Forest Regression reports/report.txt\", \"w\") as f:\n",
    "            f.write(report)\n",
    "mlflow.log_artifacts(\"Random Forest Regression reports\")"
   ]
  },
  {
   "cell_type": "code",
   "execution_count": 8,
   "metadata": {},
   "outputs": [],
   "source": [
    "random_forest_model_path = '../models/' + datetime.datetime.now().strftime(\"%Y-%m-%d-%H-%M-%S\") + '.pkl'\n",
    "pickle.dump(random_forest_model, open(random_forest_model_path, 'wb'))"
   ]
  }
 ],
 "metadata": {
  "interpreter": {
   "hash": "63fd5069d213b44bf678585dea6b12cceca9941eaf7f819626cde1f2670de90d"
  },
  "kernelspec": {
   "display_name": "Python 3.9.1 64-bit",
   "language": "python",
   "name": "python3"
  },
  "language_info": {
   "codemirror_mode": {
    "name": "ipython",
    "version": 3
   },
   "file_extension": ".py",
   "mimetype": "text/x-python",
   "name": "python",
   "nbconvert_exporter": "python",
   "pygments_lexer": "ipython3",
   "version": "3.9.1"
  },
  "orig_nbformat": 4
 },
 "nbformat": 4,
 "nbformat_minor": 2
}
